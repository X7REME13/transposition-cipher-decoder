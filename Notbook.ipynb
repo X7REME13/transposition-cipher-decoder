{
 "cells": [
  {
   "cell_type": "markdown",
   "metadata": {},
   "source": [
    "### Seteo de Variables"
   ]
  },
  {
   "cell_type": "code",
   "execution_count": 1,
   "metadata": {},
   "outputs": [],
   "source": [
    "# mensaje cifrado\n",
    "text = \"ITCRNSEEOLAHMEREPUOOSOUOIQCMEEEOIRLHTSEUEUMEXPNRLQNSOAONAPUERRNREIQIQEUE\"\n",
    "\n",
    "# contrasenia para descifrar\n",
    "key = [3,1,6,4,8,5,2,7]\n",
    "\n",
    "# Columnas\n",
    "y = 9\n",
    "\n",
    "# Filas\n",
    "x = 8"
   ]
  },
  {
   "cell_type": "markdown",
   "metadata": {},
   "source": [
    "### Transformacion de mensaje a Array"
   ]
  },
  {
   "cell_type": "code",
   "execution_count": 2,
   "metadata": {},
   "outputs": [
    {
     "name": "stdout",
     "output_type": "stream",
     "text": [
      "3 ITCRNSEEO\n",
      "1 LAHMEREPU\n",
      "6 OOSOUOIQC\n",
      "4 MEEEOIRLH\n",
      "8 TSEUEUMEX\n",
      "5 PNRLQNSOA\n",
      "2 ONAPUERRN\n",
      "7 REIQIQEUE\n"
     ]
    }
   ],
   "source": [
    "table = []\n",
    "for a in range(x):\n",
    "    table.append(text[a * y: a*y + y])\n",
    "    print(key[a], text[a * y: a*y + y])"
   ]
  },
  {
   "cell_type": "markdown",
   "metadata": {},
   "source": [
    "### Ordenamiento del array segun las keys"
   ]
  },
  {
   "cell_type": "code",
   "execution_count": 3,
   "metadata": {},
   "outputs": [
    {
     "data": {
      "text/plain": [
       "['LAHMEREPU',\n",
       " 'ONAPUERRN',\n",
       " 'ITCRNSEEO',\n",
       " 'MEEEOIRLH',\n",
       " 'PNRLQNSOA',\n",
       " 'OOSOUOIQC',\n",
       " 'REIQIQEUE',\n",
       " 'TSEUEUMEX']"
      ]
     },
     "execution_count": 3,
     "metadata": {},
     "output_type": "execute_result"
    }
   ],
   "source": [
    "tableSort = [0 for a in range(x)]\n",
    "\n",
    "for a in range(x):\n",
    "    tableSort[key[a] -1] = table[a]\n",
    "\n",
    "tableSort"
   ]
  },
  {
   "cell_type": "markdown",
   "metadata": {},
   "source": [
    "### Recorrer los arrays y mostrar el resultado"
   ]
  },
  {
   "cell_type": "code",
   "execution_count": 4,
   "metadata": {},
   "outputs": [
    {
     "name": "stdout",
     "output_type": "stream",
     "text": [
      "LOIMPORTANTENOESHACERSIEMPRELOQUEUNOQUIERESINOQUERERSIEMPRELOQUEUNOHACEX"
     ]
    }
   ],
   "source": [
    "for b in range(x+1):\n",
    "    for a in tableSort:\n",
    "        print(a[b], end=\"\")"
   ]
  }
 ],
 "metadata": {
  "kernelspec": {
   "display_name": "Python 3.10.7 64-bit",
   "language": "python",
   "name": "python3"
  },
  "language_info": {
   "codemirror_mode": {
    "name": "ipython",
    "version": 3
   },
   "file_extension": ".py",
   "mimetype": "text/x-python",
   "name": "python",
   "nbconvert_exporter": "python",
   "pygments_lexer": "ipython3",
   "version": "3.10.7"
  },
  "orig_nbformat": 4,
  "vscode": {
   "interpreter": {
    "hash": "a7dbb88c84ecda04e2dfa8176cb6708abf8c95c32934f510df16d1a1f4945387"
   }
  }
 },
 "nbformat": 4,
 "nbformat_minor": 2
}
